{
 "cells": [
  {
   "cell_type": "code",
   "execution_count": 42,
   "metadata": {
    "collapsed": false
   },
   "outputs": [
    {
     "name": "stdout",
     "output_type": "stream",
     "text": [
      "Populating the interactive namespace from numpy and matplotlib\n"
     ]
    },
    {
     "name": "stderr",
     "output_type": "stream",
     "text": [
      "WARNING: pylab import has clobbered these variables: ['bar']\n",
      "`%matplotlib` prevents importing * from pylab and numpy\n"
     ]
    }
   ],
   "source": [
    "%pylab inline\n",
    "rc('figure',figsize=(8,8))#'mathtext',fontset='stix',"
   ]
  },
  {
   "cell_type": "code",
   "execution_count": 43,
   "metadata": {
    "collapsed": false
   },
   "outputs": [
    {
     "data": {
      "image/png": "[encoded data removed]",
      "text/plain": [
       "<matplotlib.figure.Figure at 0x10eb69dd0>"
      ]
     },
     "metadata": {},
     "output_type": "display_data"
    }
   ],
   "source": [
    "#import matplotlib.pyplot as plt\n",
    "#import numpy as np\n",
    "\n",
    "n=100000\n",
    "bins=25\n",
    "width=2*np.pi/bins\n",
    "\n",
    "theta1=np.random.vonmises(0,0.1,n)\n",
    "freq1=plt.hist(theta1,bins,normed=True)\n",
    "plt.title(r'von Mises with $\\mu$=0, $\\kappa$=0.1, n=10000')\n",
    "plt.hold()"
   ]
  },
  {
   "cell_type": "code",
   "execution_count": 44,
   "metadata": {
    "collapsed": false
   },
   "outputs": [
    {
     "data": {
      "image/png": "[encoded data removed]",
      "text/plain": [
       "<matplotlib.figure.Figure at 0x10ff71fd0>"
      ]
     },
     "metadata": {},
     "output_type": "display_data"
    }
   ],
   "source": [
    "theta2=np.random.vonmises(0,0.5,n)\n",
    "freq2=plt.hist(theta2,bins,normed=True)\n",
    "plt.title(r'von Mises with $\\mu$=0, $\\kappa$=0.5, n=10000')\n",
    "plt.hold()"
   ]
  },
  {
   "cell_type": "code",
   "execution_count": 45,
   "metadata": {
    "collapsed": false,
    "scrolled": true
   },
   "outputs": [
    {
     "data": {
      "image/png": "[encoded data removed]",
      "text/plain": [
       "<matplotlib.figure.Figure at 0x10e825fd0>"
      ]
     },
     "metadata": {},
     "output_type": "display_data"
    }
   ],
   "source": [
    "theta3=np.random.vonmises(0,2,n)\n",
    "freq3,hbin,patches=plt.hist(theta3,bins,normed=True)#,histtype='stepfilled')\n",
    "plt.title(r'von Mises with $\\mu$=0, $\\kappa$=2, n=10000')\n",
    "for r, bar in zip(freq3, patches):\n",
    "    bar.set_facecolor(plt.cm.coolwarm(r))\n",
    "plt.hold()"
   ]
  },
  {
   "cell_type": "code",
   "execution_count": 46,
   "metadata": {
    "collapsed": false,
    "scrolled": true
   },
   "outputs": [
    {
     "ename": "TypeError",
     "evalue": "'numpy.float64' object is not iterable",
     "output_type": "error",
     "traceback": [
      "\u001b[0;31m---------------------------------------------------------------------------\u001b[0m",
      "\u001b[0;31mTypeError\u001b[0m                                 Traceback (most recent call last)",
      "\u001b[0;32m<ipython-input-46-4c3d4f0c83e8>\u001b[0m in \u001b[0;36m<module>\u001b[0;34m()\u001b[0m\n\u001b[1;32m      7\u001b[0m \u001b[0mfr2\u001b[0m\u001b[0;34m.\u001b[0m\u001b[0mappend\u001b[0m\u001b[0;34m(\u001b[0m\u001b[0;36m0\u001b[0m\u001b[0;34m)\u001b[0m\u001b[0;34m\u001b[0m\u001b[0m\n\u001b[1;32m      8\u001b[0m \u001b[0;34m\u001b[0m\u001b[0m\n\u001b[0;32m----> 9\u001b[0;31m \u001b[0maz3\u001b[0m\u001b[0;34m=\u001b[0m\u001b[0mlist\u001b[0m\u001b[0;34m(\u001b[0m\u001b[0mfreq3\u001b[0m\u001b[0;34m[\u001b[0m\u001b[0;36m1\u001b[0m\u001b[0;34m]\u001b[0m\u001b[0;34m)\u001b[0m\u001b[0;34m\u001b[0m\u001b[0m\n\u001b[0m\u001b[1;32m     10\u001b[0m \u001b[0mfr3\u001b[0m\u001b[0;34m=\u001b[0m\u001b[0mlist\u001b[0m\u001b[0;34m(\u001b[0m\u001b[0mfreq3\u001b[0m\u001b[0;34m[\u001b[0m\u001b[0;36m0\u001b[0m\u001b[0;34m]\u001b[0m\u001b[0;34m)\u001b[0m\u001b[0;34m\u001b[0m\u001b[0m\n\u001b[1;32m     11\u001b[0m \u001b[0mfr3\u001b[0m\u001b[0;34m.\u001b[0m\u001b[0mappend\u001b[0m\u001b[0;34m(\u001b[0m\u001b[0;36m0\u001b[0m\u001b[0;34m)\u001b[0m\u001b[0;34m\u001b[0m\u001b[0m\n",
      "\u001b[0;31mTypeError\u001b[0m: 'numpy.float64' object is not iterable"
     ]
    }
   ],
   "source": [
    "az1=list(freq1[1])\n",
    "fr1=list(freq1[0])\n",
    "fr1.append(0)\n",
    "\n",
    "az2=list(freq2[1])\n",
    "fr2=list(freq2[0])\n",
    "fr2.append(0)\n",
    "\n",
    "az3=list(freq3[1])\n",
    "fr3=list(freq3[0])\n",
    "fr3.append(0)"
   ]
  },
  {
   "cell_type": "code",
   "execution_count": null,
   "metadata": {
    "collapsed": false
   },
   "outputs": [],
   "source": [
    "plt.figure(1)\n",
    "ax = plt.subplot(111, polar=True)\n",
    "bar3=plt.bar(az1,fr1,width=width,bottom=0.0)\n",
    "ax.set_theta_zero_location(\"N\")\n",
    "ax.set_theta_direction(-1)\n",
    "ax.set_rlabel_position(90)\n",
    "for r, bar in zip(fr1, bar3):\n",
    "    bar.set_facecolor(plt.cm.RdBu(r))\n",
    "#bar3.set_facecolor(plt.cm.RdYlGn(fr1))\n",
    "#for bar in bar3:\n",
    "#    bar.set_facecolor(plt.cm.RdYlGn(fr1(bar)))\n",
    "    \n",
    "plt.title(r'von Mises with $\\mu$=0, $\\kappa$=0.1, n=10000')\n",
    "plt.hold()"
   ]
  },
  {
   "cell_type": "code",
   "execution_count": null,
   "metadata": {
    "collapsed": false,
    "scrolled": true
   },
   "outputs": [],
   "source": [
    "plt.figure(2)\n",
    "ax = plt.subplot(111,polar=True)\n",
    "ax.set_theta_zero_location(\"N\")\n",
    "ax.set_theta_direction(-1)\n",
    "ax.set_rlabel_position(90)\n",
    "\n",
    "plt.title(r'von Mises with $\\mu$=0, $\\kappa$=0.5, n=10000')\n",
    "bars = ax.bar(az2,fr2,width=width,bottom=0.0)\n",
    "for r, bar in zip(fr2, bars):\n",
    "    bar.set_facecolor(plt.cm.RdBu(r))\n",
    "plt.hold()"
   ]
  },
  {
   "cell_type": "code",
   "execution_count": null,
   "metadata": {
    "collapsed": false,
    "scrolled": true
   },
   "outputs": [],
   "source": [
    "plt.figure(3)\n",
    "ax = plt.subplot(111,polar=True)\n",
    "plt.title(r'von Mises with $\\mu$=0, $\\kappa$=2, n=10000')\n",
    "bars = ax.bar(az3,fr3,width=width,bottom=0.0)\n",
    "ax.set_theta_zero_location(\"N\")\n",
    "ax.set_theta_direction(-1)\n",
    "ax.set_rlabel_position(90)\n",
    "\n",
    "for r, bar in zip(fr3, bars):\n",
    "    bar.set_facecolor(plt.cm.RdBu(r))\n",
    "plt.show()"
   ]
  },
  {
   "cell_type": "code",
   "execution_count": null,
   "metadata": {
    "collapsed": true
   },
   "outputs": [],
   "source": []
  }
 ],
 "metadata": {
  "kernelspec": {
   "display_name": "Python 2",
   "language": "python",
   "name": "python2"
  },
  "language_info": {
   "codemirror_mode": {
    "name": "ipython",
    "version": 2
   },
   "file_extension": ".py",
   "mimetype": "text/x-python",
   "name": "python",
   "nbconvert_exporter": "python",
   "pygments_lexer": "ipython2",
   "version": "2.7.10"
  },
  "name": "Vonmises.ipynb"
 },
 "nbformat": 4,
 "nbformat_minor": 0
}

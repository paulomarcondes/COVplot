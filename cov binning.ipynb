{
 "cells": [
  {
   "cell_type": "code",
   "execution_count": 4,
   "metadata": {
    "collapsed": false
   },
   "outputs": [],
   "source": [
    "from pylab import *\n",
    "\n",
    "z = randn(1000)\n",
    "h = randn(1000)"
   ]
  },
  {
   "cell_type": "code",
   "execution_count": 7,
   "metadata": {
    "collapsed": false
   },
   "outputs": [
    {
     "data": {
      "text/plain": [
       "'\\n        randn(d0, d1, ..., dn)\\n\\n        Return a sample (or samples) from the \"standard normal\" distribution.\\n\\n        If positive, int_like or int-convertible arguments are provided,\\n        `randn` generates an array of shape ``(d0, d1, ..., dn)``, filled\\n        with random floats sampled from a univariate \"normal\" (Gaussian)\\n        distribution of mean 0 and variance 1 (if any of the :math:`d_i` are\\n        floats, they are first converted to integers by truncation). A single\\n        float randomly sampled from the distribution is returned if no\\n        argument is provided.\\n\\n        This is a convenience function.  If you want an interface that takes a\\n        tuple as the first argument, use `numpy.random.standard_normal` instead.\\n\\n        Parameters\\n        ----------\\n        d0, d1, ..., dn : int, optional\\n            The dimensions of the returned array, should be all positive.\\n            If no argument is given a single Python float is returned.\\n\\n        Returns\\n        -------\\n        Z : ndarray or float\\n            A ``(d0, d1, ..., dn)``-shaped array of floating-point samples from\\n            the standard normal distribution, or a single such float if\\n            no parameters were supplied.\\n\\n        See Also\\n        --------\\n        random.standard_normal : Similar, but takes a tuple as its argument.\\n\\n        Notes\\n        -----\\n        For random samples from :math:`N(\\\\mu, \\\\sigma^2)`, use:\\n\\n        ``sigma * np.random.randn(...) + mu``\\n\\n        Examples\\n        --------\\n        >>> np.random.randn()\\n        2.1923875335537315 #random\\n\\n        Two-by-four array of samples from N(3, 6.25):\\n\\n        >>> 2.5 * np.random.randn(2, 4) + 3\\n        array([[-4.49401501,  4.00950034, -1.81814867,  7.29718677],  #random\\n               [ 0.39924804,  4.68456316,  4.99394529,  4.84057254]]) #random\\n\\n        '"
      ]
     },
     "execution_count": 7,
     "metadata": {},
     "output_type": "execute_result"
    }
   ],
   "source": [
    "randn.__doc__"
   ]
  },
  {
   "cell_type": "code",
   "execution_count": null,
   "metadata": {
    "collapsed": true
   },
   "outputs": [],
   "source": []
  }
 ],
 "metadata": {
  "kernelspec": {
   "display_name": "Python 2",
   "language": "python",
   "name": "python2"
  },
  "language_info": {
   "codemirror_mode": {
    "name": "ipython",
    "version": 2
   },
   "file_extension": ".py",
   "mimetype": "text/x-python",
   "name": "python",
   "nbconvert_exporter": "python",
   "pygments_lexer": "ipython2",
   "version": "2.7.8"
  },
  "name": "cov binning.ipynb"
 },
 "nbformat": 4,
 "nbformat_minor": 0
}
